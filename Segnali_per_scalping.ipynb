{
  "nbformat": 4,
  "nbformat_minor": 0,
  "metadata": {
    "colab": {
      "provenance": [],
      "authorship_tag": "ABX9TyNvlXaGlZvINzTNQGNwafs/"
    },
    "kernelspec": {
      "name": "python3",
      "display_name": "Python 3"
    },
    "language_info": {
      "name": "python"
    }
  },
  "cells": [
    {
      "cell_type": "code",
      "source": [
        "pip install --upgrade yfinance"
      ],
      "metadata": {
        "id": "rXF5cK65dChN"
      },
      "execution_count": null,
      "outputs": []
    },
    {
      "cell_type": "code",
      "execution_count": 1,
      "metadata": {
        "colab": {
          "base_uri": "https://localhost:8080/",
          "height": 957
        },
        "id": "Z2eM9x561MAP",
        "outputId": "a534e784-168e-4bc6-869b-c4a0a6f05729"
      },
      "outputs": [
        {
          "output_type": "stream",
          "name": "stderr",
          "text": [
            "\r[*********************100%***********************]  1 of 1 completed\n"
          ]
        },
        {
          "output_type": "stream",
          "name": "stdout",
          "text": [
            "Dati scaricati con successo.\n",
            "Price                       Adj Close       Close        High         Low  \\\n",
            "Ticker                           AMZN        AMZN        AMZN        AMZN   \n",
            "Datetime                                                                    \n",
            "2025-01-08 14:30:00+00:00  222.610001  222.610001  223.164993  222.610001   \n",
            "2025-01-08 14:31:00+00:00  222.690002  222.690002  222.759995  222.250000   \n",
            "2025-01-08 14:32:00+00:00  222.330002  222.330002  222.838501  222.130005   \n",
            "2025-01-08 14:33:00+00:00  222.229996  222.229996  222.520004  222.214996   \n",
            "2025-01-08 14:34:00+00:00  222.725006  222.725006  222.850006  222.225906   \n",
            "\n",
            "Price                            Open   Volume  \n",
            "Ticker                           AMZN     AMZN  \n",
            "Datetime                                        \n",
            "2025-01-08 14:30:00+00:00  223.149994  1066708  \n",
            "2025-01-08 14:31:00+00:00  222.660004    95117  \n",
            "2025-01-08 14:32:00+00:00  222.725006   100055  \n",
            "2025-01-08 14:33:00+00:00  222.360001    58351  \n",
            "2025-01-08 14:34:00+00:00  222.250000    85227  \n",
            "------- GAP --------\n",
            "Datetime\n",
            "2025-01-08 14:30:00+00:00         NaN\n",
            "2025-01-08 14:31:00+00:00    0.000225\n",
            "2025-01-08 14:32:00+00:00    0.000157\n",
            "2025-01-08 14:33:00+00:00    0.000135\n",
            "2025-01-08 14:34:00+00:00    0.000090\n",
            "                               ...   \n",
            "2025-01-15 18:43:00+00:00   -0.000135\n",
            "2025-01-15 18:44:00+00:00    0.000022\n",
            "2025-01-15 18:45:00+00:00   -0.000072\n",
            "2025-01-15 18:46:00+00:00   -0.000067\n",
            "2025-01-15 18:47:00+00:00   -0.000261\n",
            "Name: Gap, Length: 1814, dtype: float64\n"
          ]
        },
        {
          "output_type": "error",
          "ename": "KeyError",
          "evalue": "['Gap']",
          "traceback": [
            "\u001b[0;31m---------------------------------------------------------------------------\u001b[0m",
            "\u001b[0;31mKeyError\u001b[0m                                  Traceback (most recent call last)",
            "\u001b[0;32m<ipython-input-1-a66bbe1f6ea8>\u001b[0m in \u001b[0;36m<cell line: 39>\u001b[0;34m()\u001b[0m\n\u001b[1;32m     37\u001b[0m \u001b[0;34m\u001b[0m\u001b[0m\n\u001b[1;32m     38\u001b[0m \u001b[0;31m# Rimuoviamo le righe che contengono NaN per la colonna 'Gap' (inclusa la prima riga)\u001b[0m\u001b[0;34m\u001b[0m\u001b[0;34m\u001b[0m\u001b[0m\n\u001b[0;32m---> 39\u001b[0;31m \u001b[0mdata\u001b[0m \u001b[0;34m=\u001b[0m \u001b[0mdata\u001b[0m\u001b[0;34m.\u001b[0m\u001b[0mdropna\u001b[0m\u001b[0;34m(\u001b[0m\u001b[0msubset\u001b[0m\u001b[0;34m=\u001b[0m\u001b[0;34m[\u001b[0m\u001b[0;34m'Gap'\u001b[0m\u001b[0;34m]\u001b[0m\u001b[0;34m)\u001b[0m \u001b[0;31m# Removing NaN values to align indexes\u001b[0m\u001b[0;34m\u001b[0m\u001b[0;34m\u001b[0m\u001b[0m\n\u001b[0m\u001b[1;32m     40\u001b[0m \u001b[0;34m\u001b[0m\u001b[0m\n\u001b[1;32m     41\u001b[0m \u001b[0;31m# Before calculating the Scalping_Signal, let's create the 'Position' column and initialize it to 0:\u001b[0m\u001b[0;34m\u001b[0m\u001b[0;34m\u001b[0m\u001b[0m\n",
            "\u001b[0;32m/usr/local/lib/python3.10/dist-packages/pandas/core/frame.py\u001b[0m in \u001b[0;36mdropna\u001b[0;34m(self, axis, how, thresh, subset, inplace, ignore_index)\u001b[0m\n\u001b[1;32m   6668\u001b[0m             \u001b[0mcheck\u001b[0m \u001b[0;34m=\u001b[0m \u001b[0mindices\u001b[0m \u001b[0;34m==\u001b[0m \u001b[0;34m-\u001b[0m\u001b[0;36m1\u001b[0m\u001b[0;34m\u001b[0m\u001b[0;34m\u001b[0m\u001b[0m\n\u001b[1;32m   6669\u001b[0m             \u001b[0;32mif\u001b[0m \u001b[0mcheck\u001b[0m\u001b[0;34m.\u001b[0m\u001b[0many\u001b[0m\u001b[0;34m(\u001b[0m\u001b[0;34m)\u001b[0m\u001b[0;34m:\u001b[0m\u001b[0;34m\u001b[0m\u001b[0;34m\u001b[0m\u001b[0m\n\u001b[0;32m-> 6670\u001b[0;31m                 \u001b[0;32mraise\u001b[0m \u001b[0mKeyError\u001b[0m\u001b[0;34m(\u001b[0m\u001b[0mnp\u001b[0m\u001b[0;34m.\u001b[0m\u001b[0marray\u001b[0m\u001b[0;34m(\u001b[0m\u001b[0msubset\u001b[0m\u001b[0;34m)\u001b[0m\u001b[0;34m[\u001b[0m\u001b[0mcheck\u001b[0m\u001b[0;34m]\u001b[0m\u001b[0;34m.\u001b[0m\u001b[0mtolist\u001b[0m\u001b[0;34m(\u001b[0m\u001b[0;34m)\u001b[0m\u001b[0;34m)\u001b[0m\u001b[0;34m\u001b[0m\u001b[0;34m\u001b[0m\u001b[0m\n\u001b[0m\u001b[1;32m   6671\u001b[0m             \u001b[0magg_obj\u001b[0m \u001b[0;34m=\u001b[0m \u001b[0mself\u001b[0m\u001b[0;34m.\u001b[0m\u001b[0mtake\u001b[0m\u001b[0;34m(\u001b[0m\u001b[0mindices\u001b[0m\u001b[0;34m,\u001b[0m \u001b[0maxis\u001b[0m\u001b[0;34m=\u001b[0m\u001b[0magg_axis\u001b[0m\u001b[0;34m)\u001b[0m\u001b[0;34m\u001b[0m\u001b[0;34m\u001b[0m\u001b[0m\n\u001b[1;32m   6672\u001b[0m \u001b[0;34m\u001b[0m\u001b[0m\n",
            "\u001b[0;31mKeyError\u001b[0m: ['Gap']"
          ]
        }
      ],
      "source": [
        "import yfinance as yf\n",
        "import matplotlib.pyplot as plt\n",
        "import pandas as pd\n",
        "import numpy as np\n",
        "\n",
        "# Scarica i dati storici da Yahoo Finance\n",
        "symbol = 'AMZN'\n",
        "data = yf.download(symbol, period=\"5d\", interval=\"1m\")\n",
        "\n",
        "# Controlla se i dati sono stati scaricati correttamente\n",
        "if data.empty:\n",
        "    print(\"Nessun dato scaricato. Controlla il simbolo o la connessione.\")\n",
        "else:\n",
        "    print(\"Dati scaricati con successo.\")\n",
        "\n",
        "print(data.head())\n",
        "\n",
        "# Calcolo delle medie mobili a breve e lungo periodo\n",
        "short_window = 10  # Periodo della media mobile corta (ad esempio, 10 minuti)\n",
        "long_window = 30   # Periodo della media mobile lunga (ad esempio, 30 minuti)\n",
        "\n",
        "data['Short_MA'] = data['Close'].rolling(window=short_window, min_periods=1).mean()\n",
        "data['Long_MA'] = data['Close'].rolling(window=long_window, min_periods=1).mean()\n",
        "\n",
        "# Identifica i segnali di \"Gap\" e \"Volume\"\n",
        "gap_threshold = 0.005  # Gap > 0.5% tra apertura e chiusura precedente\n",
        "volume_threshold = 1.5  # Volume maggiore di 1.5 volte la media degli ultimi 10 minuti\n",
        "\n",
        "# Calcolare il gap come differenza tra apertura e chiusura precedente\n",
        "data['Gap'] = (data['Open'] - data['Close'].shift(1)) / data['Close'].shift(1)\n",
        "\n",
        "# Calcolare la media mobile del volume degli ultimi 10 minuti\n",
        "data['Volume_MA'] = data['Volume'].rolling(window=10, min_periods=1).mean()\n",
        "\n",
        "print(\"------- GAP --------\")\n",
        "print(data['Gap'])\n",
        "\n",
        "# Rimuoviamo le righe che contengono NaN per la colonna 'Gap' (inclusa la prima riga)\n",
        "data = data.dropna(subset=['Gap']) # Removing NaN values to align indexes\n",
        "\n",
        "# Before calculating the Scalping_Signal, let's create the 'Position' column and initialize it to 0:\n",
        "data['Position'] = 0\n",
        "\n",
        "# Identificare le opportunità di scalping basate sul gap e sul volume\n",
        "data['Scalping_Signal'] = 0  # Inizialmente nessun segnale\n",
        "data['Scalping_Signal'] = np.where((data['Gap'] > gap_threshold) & (data['Volume'] > volume_threshold * data['Volume_MA']), 1, 0)\n",
        "\n",
        "# Now the plotting code should work without the ValueError\n",
        "plt.scatter(data.index[data['Position'] == 1], data['Close'][data['Position'] == 1], label='Buy Signal (MA)', marker='^', color='g', alpha=1)\n",
        "plt.scatter(data.index[data['Position'] == -1], data['Close'][data['Position'] == -1], label='Sell Signal (MA)', marker='v', color='r', alpha=1)\n",
        "\n",
        "# Creazione del grafico\n",
        "plt.figure(figsize=(14, 8))\n",
        "\n",
        "# Traccia il prezzo di chiusura\n",
        "plt.plot(data['Close'], label='Close Price', color='blue', alpha=0.6)\n",
        "\n",
        "# Traccia le medie mobili\n",
        "plt.plot(data['Short_MA'], label=f'Short {short_window}-minute MA', color='red', alpha=0.75)\n",
        "plt.plot(data['Long_MA'], label=f'Long {long_window}-minute MA', color='green', alpha=0.75)\n",
        "\n",
        "# Aggiungi segnali di Buy e Sell basati sulle medie mobili\n",
        "plt.scatter(data.index[data['Position'] == 1], data['Close'][data['Position'] == 1], label='Buy Signal (MA)', marker='^', color='g', alpha=1)\n",
        "plt.scatter(data.index[data['Position'] == -1], data['Close'][data['Position'] == -1], label='Sell Signal (MA)', marker='v', color='r', alpha=1)\n",
        "\n",
        "# Aggiungi segnali di Buy basati su Gap e Volume\n",
        "plt.scatter(data.index[data['Scalping_Signal'] == 1], data['Close'][data['Scalping_Signal'] == 1], label='Buy Signal (Gap + Volume)', marker='*', color='orange', alpha=1)\n",
        "\n",
        "# Aggiungi titolo e etichette\n",
        "plt.title(f'{symbol} Scalping Opportunities (6 Months)')\n",
        "plt.xlabel('Date')\n",
        "plt.ylabel('Price (USD)')\n",
        "plt.legend(loc='best')\n",
        "plt.grid(True)\n",
        "plt.xticks(rotation=45)\n",
        "plt.tight_layout()\n",
        "\n",
        "# Mostra il grafico\n",
        "plt.show()"
      ]
    }
  ]
}